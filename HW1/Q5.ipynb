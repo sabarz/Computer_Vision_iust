{
  "nbformat": 4,
  "nbformat_minor": 0,
  "metadata": {
    "colab": {
      "provenance": [],
      "toc_visible": true
    },
    "kernelspec": {
      "name": "python3",
      "display_name": "Python 3"
    },
    "language_info": {
      "name": "python"
    }
  },
  "cells": [
    {
      "cell_type": "markdown",
      "source": [
        "# Q5"
      ],
      "metadata": {
        "id": "NjnH9p_GCDq7"
      }
    },
    {
      "cell_type": "code",
      "source": [
        "import numpy as np\n",
        "import cv2\n",
        "import math\n",
        "import matplotlib.pyplot as plt\n",
        "from google.colab.patches import cv2_imshow"
      ],
      "metadata": {
        "id": "2fTRRkUQGn9_"
      },
      "execution_count": null,
      "outputs": []
    },
    {
      "cell_type": "markdown",
      "source": [
        "## part a"
      ],
      "metadata": {
        "id": "dEQWZKw6CJG5"
      }
    },
    {
      "cell_type": "markdown",
      "source": [
        "<h3> in this section we want to implement histogram equalization </h3>\n",
        "<h3> you can use opencv library </h3>"
      ],
      "metadata": {
        "id": "cWTTdTsZCNA_"
      }
    },
    {
      "cell_type": "code",
      "execution_count": null,
      "metadata": {
        "id": "dUmSc-arCA-5"
      },
      "outputs": [],
      "source": [
        "image = cv2.imread('img_improvment.png',cv2.IMREAD_GRAYSCALE)\n",
        "output_image = image.copy()\n",
        "equalize_image = ## your code here ##"
      ]
    },
    {
      "cell_type": "code",
      "source": [
        "plt.figure(figsize=(20,20))\n",
        "plt.subplot(1,2,1)\n",
        "plt.imshow(image, cmap='gray')\n",
        "plt.title('main image')\n",
        "plt.axis('off')\n",
        "\n",
        "plt.subplot(1,2,2)\n",
        "plt.imshow(equalize_image, cmap='gray')\n",
        "plt.title('equalized image')\n",
        "plt.axis('off')"
      ],
      "metadata": {
        "id": "6usFo_74Hc6U"
      },
      "execution_count": null,
      "outputs": []
    },
    {
      "cell_type": "markdown",
      "source": [
        "## part b"
      ],
      "metadata": {
        "id": "mAeavcseIVD4"
      }
    },
    {
      "cell_type": "markdown",
      "source": [
        "<h3> in this section we want to implement the first method for ACE </h3>\n",
        "<h3> you can use opencv library </h3>\n",
        "<h3> use 48(6*8) grids (size of the grids should be 48*48) </h3> "
      ],
      "metadata": {
        "id": "Kzh8stzmP7zG"
      }
    },
    {
      "cell_type": "code",
      "source": [
        "def ACE1(image, gridSize):\n",
        "  '''\n",
        "  you can use the equalize function of OpenCV for each grid\n",
        "  Use first method for ACE implementation (calculating transition function for each grid)\n",
        "  input(s):\n",
        "    image (ndarray): input image\n",
        "    gridSize (int): window size for calculating histogram equalization\n",
        "  output(s):\n",
        "    output (ndarray): improved image\n",
        "  '''\n",
        "  x,y = image.shape\n",
        "  output_image = image.copy()\n",
        "\n",
        "  #######################\n",
        "  #    your code here   #\n",
        "  #######################\n",
        "  \n",
        "  return output_image"
      ],
      "metadata": {
        "id": "Agc8koDGIUET"
      },
      "execution_count": null,
      "outputs": []
    },
    {
      "cell_type": "code",
      "source": [
        "plt.figure(figsize=(20,20))\n",
        "plt.subplot(1,2,1)\n",
        "plt.imshow(image, cmap='gray')\n",
        "plt.title('main image')\n",
        "plt.axis('off')\n",
        "\n",
        "plt.subplot(1,2,2)\n",
        "output_image = ACE1(image,48)\n",
        "plt.imshow(output_image, cmap='gray')\n",
        "plt.title('equalized image')\n",
        "plt.axis('off')"
      ],
      "metadata": {
        "id": "GwFbSeUKSj9V"
      },
      "execution_count": null,
      "outputs": []
    },
    {
      "cell_type": "markdown",
      "source": [
        "## part c"
      ],
      "metadata": {
        "id": "VN-frZQyT_Tf"
      }
    },
    {
      "cell_type": "markdown",
      "source": [
        "<h3> in this section we want to implement the second method for ACE </h3>\n",
        "<h3> you can use opencv library </h3>"
      ],
      "metadata": {
        "id": "_rcxJ6IhtAAb"
      }
    },
    {
      "cell_type": "code",
      "source": [
        "def ACE2(image, gridSize):\n",
        "    '''\n",
        "    you can just use the equalize function of OpenCV for each grid\n",
        "    You can use OpenCV built-in tools for applying padding\n",
        "    Use second method for ACE implementation (calculating transition function for each pixel)\n",
        "    input(s):\n",
        "      image (ndarray): input image\n",
        "      gridSize (tuple): window size for calculating histogram equalization\n",
        "    output(s):\n",
        "      output (ndarray): improved image\n",
        "    '''\n",
        "    output = image.copy()\n",
        "    \n",
        "    #######################\n",
        "    #    your code here   #\n",
        "    #######################\n",
        "\n",
        "    return output"
      ],
      "metadata": {
        "id": "MeFn2McfsdOj"
      },
      "execution_count": null,
      "outputs": []
    },
    {
      "cell_type": "code",
      "source": [
        "plt.figure(figsize=(20,20))\n",
        "plt.subplot(1,2,1)\n",
        "plt.imshow(image, cmap='gray')\n",
        "plt.title('main image')\n",
        "plt.axis('off')\n",
        "\n",
        "plt.subplot(1,2,2)\n",
        "output_image = ACE2(image,(70,70))\n",
        "plt.imshow(output_image, cmap='gray')\n",
        "plt.title('equalized image')\n",
        "plt.axis('off')"
      ],
      "metadata": {
        "id": "Kawct8DOsoFj"
      },
      "execution_count": null,
      "outputs": []
    },
    {
      "cell_type": "markdown",
      "source": [
        "## part d"
      ],
      "metadata": {
        "id": "gxpaljXPtMeW"
      }
    },
    {
      "cell_type": "markdown",
      "source": [
        "<h3> in this section we want to implement CLAHE </h3>\n",
        "<h3><b> note : you can just use opencv library for calculate histogram and applying padding </b></h3>\n",
        "<h3><b>note : you can't use the equalize function of opencv</b></h3>"
      ],
      "metadata": {
        "id": "oih3_lXLtUe7"
      }
    },
    {
      "cell_type": "code",
      "source": [
        "def CLAHE(image, gridSize, clip_limit):\n",
        "    '''\n",
        "    you can just use opencv library for calculate histogram and applying padding\n",
        "    you can't use the equalize function of opencv\n",
        "    Use second method for ACE implementation (calculating transition function for each pixel)\n",
        "    input(s):\n",
        "      image (ndarray): input image\n",
        "      gridSize (tuple): window size for calculating histogram equalization\n",
        "      clip_limit (int): threshold for contrast limiting\n",
        "    output(s):\n",
        "      output (ndarray): improved image\n",
        "    '''\n",
        "    output = image.copy()\n",
        "\n",
        "    #######################\n",
        "    #    your code here   #\n",
        "    #######################\n",
        "    \n",
        "    return output"
      ],
      "metadata": {
        "id": "gpIKzl2ktSpg"
      },
      "execution_count": null,
      "outputs": []
    },
    {
      "cell_type": "code",
      "source": [
        "plt.figure(figsize=(20,20))\n",
        "plt.subplot(1,2,1)\n",
        "plt.imshow(image, cmap='gray')\n",
        "plt.title('main image')\n",
        "plt.axis('off')\n",
        "\n",
        "plt.subplot(1,2,2)\n",
        "output_image = CLAHE(image,(70,70), 100)\n",
        "plt.imshow(output_image, cmap='gray')\n",
        "plt.title('equalized image')\n",
        "plt.axis('off')"
      ],
      "metadata": {
        "id": "iAh5T7aZu7oO"
      },
      "execution_count": null,
      "outputs": []
    }
  ]
}