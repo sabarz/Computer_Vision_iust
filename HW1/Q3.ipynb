{
  "cells": [
    {
      "cell_type": "code",
      "execution_count": null,
      "id": "b3443c0c",
      "metadata": {
        "id": "b3443c0c"
      },
      "outputs": [],
      "source": [
        "import numpy as np\n",
        "import cv2\n",
        "from matplotlib import pyplot as plt"
      ]
    },
    {
      "cell_type": "markdown",
      "id": "8271addf",
      "metadata": {
        "id": "8271addf"
      },
      "source": [
        "# Question 3:"
      ]
    },
    {
      "cell_type": "markdown",
      "id": "5a8db857",
      "metadata": {
        "id": "5a8db857"
      },
      "source": [
        "part 2:"
      ]
    },
    {
      "cell_type": "code",
      "execution_count": null,
      "id": "6b38465d",
      "metadata": {
        "id": "6b38465d"
      },
      "outputs": [],
      "source": [
        "#define image1 here\n"
      ]
    },
    {
      "cell_type": "code",
      "execution_count": null,
      "id": "b11881b5",
      "metadata": {
        "id": "b11881b5"
      },
      "outputs": [],
      "source": [
        "#code here\n",
        "#first define a function for calculating histogram\n",
        "def calc_hist(image):\n",
        "    \n",
        "    return(hist)"
      ]
    },
    {
      "cell_type": "code",
      "execution_count": null,
      "id": "9e6bfebe",
      "metadata": {
        "id": "9e6bfebe"
      },
      "outputs": [],
      "source": [
        "#dont change this cell\n",
        "plt.imshow(image1,cmap='gray',vmin=0,vmax=255)\n",
        "plt.figure()\n",
        "plt.plot(calc_hist(image1))\n",
        "plt.title('histogram')"
      ]
    },
    {
      "cell_type": "code",
      "execution_count": null,
      "id": "f3859f52",
      "metadata": {
        "id": "f3859f52"
      },
      "outputs": [],
      "source": [
        "#code here\n",
        "#define a function (stretch) for stretching(input:image , output: stretched image)\n",
        "\n",
        "\n",
        "def stretch_hist(image):\n",
        "  '''\n",
        "  don't use libraries\n",
        "  input(s):\n",
        "    image (ndarray): input image\n",
        "  output(s):\n",
        "    output_image (ndarray): enhanced image with histogram stretching\n",
        "  '''\n",
        "  output_image = image.copy()\n",
        "  # Start\n",
        "  \n",
        "  # End\n",
        "  return output_image\n"
      ]
    },
    {
      "cell_type": "code",
      "execution_count": null,
      "id": "a845c79f",
      "metadata": {
        "id": "a845c79f"
      },
      "outputs": [],
      "source": [
        "#dont change this cell\n",
        "plt.imshow(stretch_hist(image1),cmap='gray',vmin=0,vmax=255)\n",
        "plt.figure()\n",
        "plt.plot(calc_hist(stretch_hist(image1)))\n",
        "plt.title('new histogram')"
      ]
    },
    {
      "cell_type": "markdown",
      "id": "a348da7a",
      "metadata": {
        "id": "a348da7a"
      },
      "source": [
        "# part3\n"
      ]
    },
    {
      "cell_type": "code",
      "execution_count": null,
      "id": "9f6bc9a9",
      "metadata": {
        "id": "9f6bc9a9"
      },
      "outputs": [],
      "source": [
        "# first read the image and show it.(image2)\n",
        "\n"
      ]
    },
    {
      "cell_type": "code",
      "execution_count": null,
      "id": "7c7cce53",
      "metadata": {
        "id": "7c7cce53"
      },
      "outputs": [],
      "source": [
        "#use stretch function to improve quality of the image and show it\n",
        "\n"
      ]
    },
    {
      "cell_type": "code",
      "execution_count": null,
      "id": "238547fa",
      "metadata": {
        "id": "238547fa"
      },
      "outputs": [],
      "source": [
        "#define new function that can improve this image \n",
        "\n",
        "def modified_stretch_hist(image):\n",
        "  '''\n",
        "  don't use libraries\n",
        "  input(s):\n",
        "    image (ndarray): input image\n",
        "  output(s):\n",
        "    output_image (ndarray): enhanced image with modified histogram stretching\n",
        "  '''\n",
        "  output_image = image.copy()\n",
        "  ############\n",
        "  # Your code\n",
        "            \n",
        "  # End\n",
        "  ############\n",
        "  return output_image\n"
      ]
    },
    {
      "cell_type": "code",
      "source": [
        "#try your new function and show the result\n",
        "\n",
        "\n",
        "\n",
        "\n",
        "\n"
      ],
      "metadata": {
        "id": "Ny8u_4-Hfhjs"
      },
      "id": "Ny8u_4-Hfhjs",
      "execution_count": null,
      "outputs": []
    }
  ],
  "metadata": {
    "kernelspec": {
      "display_name": "Python 3 (ipykernel)",
      "language": "python",
      "name": "python3"
    },
    "language_info": {
      "codemirror_mode": {
        "name": "ipython",
        "version": 3
      },
      "file_extension": ".py",
      "mimetype": "text/x-python",
      "name": "python",
      "nbconvert_exporter": "python",
      "pygments_lexer": "ipython3",
      "version": "3.9.12"
    },
    "colab": {
      "provenance": []
    }
  },
  "nbformat": 4,
  "nbformat_minor": 5
}