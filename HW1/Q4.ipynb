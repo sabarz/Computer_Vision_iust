{
  "nbformat": 4,
  "nbformat_minor": 0,
  "metadata": {
    "colab": {
      "provenance": []
    },
    "kernelspec": {
      "name": "python3",
      "display_name": "Python 3"
    },
    "language_info": {
      "name": "python"
    }
  },
  "cells": [
    {
      "cell_type": "markdown",
      "source": [
        "## Q4"
      ],
      "metadata": {
        "id": "4xLjg_dupxK7"
      }
    },
    {
      "cell_type": "markdown",
      "source": [
        "<h3> in this section we want to implement histogram matching </h3>\n",
        "<h3><b> note : you can't use libraries in this section </b></h3>\n"
      ],
      "metadata": {
        "id": "S-a22z8qqxlL"
      }
    },
    {
      "cell_type": "markdown",
      "source": [],
      "metadata": {
        "id": "hR1ACAeiW1Nr"
      }
    },
    {
      "cell_type": "code",
      "execution_count": null,
      "metadata": {
        "id": "tuRJl_C0pN55"
      },
      "outputs": [],
      "source": [
        "import cv2\n",
        "import numpy as np\n",
        "import matplotlib.pyplot as plt\n",
        "import math"
      ]
    },
    {
      "cell_type": "code",
      "source": [
        "def calc_hist(image):\n",
        "    '''\n",
        "    Do not use libraries\n",
        "    calculate image histogram\n",
        "    input(s):\n",
        "      image (ndarray): input image\n",
        "    output(s):\n",
        "      hist (ndarray): computed input image histogram\n",
        "    '''\n",
        "    hist = np.zeros(256,dtype=int)\n",
        "    \n",
        "    #######################\n",
        "    #    your code here   #\n",
        "    #######################\n",
        "    \n",
        "    return hist"
      ],
      "metadata": {
        "id": "lhghKY_7p0zB"
      },
      "execution_count": null,
      "outputs": []
    },
    {
      "cell_type": "code",
      "source": [
        "def calc_cdf(channel):\n",
        "  '''\n",
        "    Do not use libraries\n",
        "    calculate image cdf\n",
        "    input(s):\n",
        "      channel (ndarray): input image channel\n",
        "    output(s):\n",
        "      cdf (ndarray): computed cdf for input image channel\n",
        "  '''\n",
        "  \n",
        "  #######################\n",
        "  #    your code here   #\n",
        "  #######################\n",
        "  \n",
        "  return cdf"
      ],
      "metadata": {
        "id": "UrzXHhl4ul8w"
      },
      "execution_count": null,
      "outputs": []
    },
    {
      "cell_type": "code",
      "source": [
        "def hist_matching(src_image,ref_image):\n",
        "  '''\n",
        "  don't use libraries\n",
        "  input(s):\n",
        "    src_image (ndarray): source image\n",
        "    ref_image (ndarray): reference image\n",
        "  output(s):\n",
        "    output_image (ndarray): transformation of source image so that its histogram matches histogram of refrence image \n",
        "  '''\n",
        "  output_image = src_image.copy()\n",
        "  channels = [(0, 'Blue channel'), (1, 'Green channel'), (2, 'Red channel')]\n",
        "  for channel, title in channels:\n",
        "\n",
        "    #######################\n",
        "    #    your code here   #\n",
        "    #######################\n",
        "    \n",
        "  return output_image"
      ],
      "metadata": {
        "id": "IbWA_HeKrKcP"
      },
      "execution_count": null,
      "outputs": []
    },
    {
      "cell_type": "code",
      "source": [
        "# Do not change this cell\n",
        "src = cv2.imread('input.png')\n",
        "ref = cv2.imread('ref.png')\n",
        "Array = [src, ref, hist_matching(src,ref)]\n",
        "titles = ['source image', 'reference image', 'output image']\n",
        "plt.figure(figsize=(20,20))\n",
        "for i in range(3):\n",
        "  plt.subplot(1,3,i+1)\n",
        "  plt.imshow(Array[i][:,:,::-1])\n",
        "  plt.title(titles[i])\n",
        "  plt.axis('off')"
      ],
      "metadata": {
        "id": "y_XCMm9Fz8C-"
      },
      "execution_count": null,
      "outputs": []
    },
    {
      "cell_type": "code",
      "source": [
        "# Do not change this cell\n",
        "fig = plt.figure(figsize= (16, 5))\n",
        "channels = [(0, 'Blue channel'), (1, 'Green channel'), (2, 'Red channel')]\n",
        "output = hist_matching(src,ref)\n",
        "for channel, title in channels:\n",
        "    fig.add_subplot(1, 3, channel+ 1)\n",
        "    a = calc_cdf(output[:,:,channel])\n",
        "    b = calc_cdf(src[:,:,channel])\n",
        "    c = calc_cdf(ref[:,:,channel])\n",
        "    plt.plot(a,label='output')\n",
        "    plt.plot(b,label='src')\n",
        "    plt.plot(c,label='ref')\n",
        "    plt.legend()\n",
        "    plt.title(title)"
      ],
      "metadata": {
        "id": "8KI6cMT16iNo"
      },
      "execution_count": null,
      "outputs": []
    }
  ]
}