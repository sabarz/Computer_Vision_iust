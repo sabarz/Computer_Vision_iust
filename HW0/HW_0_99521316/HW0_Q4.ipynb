{
  "cells": [
    {
      "cell_type": "markdown",
      "metadata": {
        "id": "4MzPOOlSImyt"
      },
      "source": [
        "# Q4"
      ]
    },
    {
      "cell_type": "markdown",
      "metadata": {
        "id": "5ePsJElFImy5"
      },
      "source": [
        "## Part A"
      ]
    },
    {
      "cell_type": "code",
      "execution_count": 2,
      "metadata": {
        "id": "ZwuAK25_Imy8",
        "colab": {
          "base_uri": "https://localhost:8080/"
        },
        "outputId": "020f608c-2316-463c-c2f0-c47df5e9cef0"
      },
      "outputs": [
        {
          "output_type": "stream",
          "name": "stdout",
          "text": [
            "[[0.78125  1.78125  2.78125 ]\n",
            " [4.       5.       6.      ]\n",
            " [7.171875 8.171875 9.171875]]\n"
          ]
        }
      ],
      "source": [
        "\"\"\"\n",
        "Please define the mentioned matrices and the operations\n",
        "\n",
        "consider the bellow links:\n",
        "https://numpy.org/doc/stable/reference/generated/numpy.transpose.html\n",
        "\n",
        "https://numpy.org/doc/stable/reference/generated/numpy.dot.html\n",
        "\n",
        "\"\"\"\n",
        "\n",
        "##############################################\n",
        "############ YOUR CODES GO HERE ##############\n",
        "import numpy as np \n",
        "a = np.array([[1, 2, 3], [4, 5, 6],[7, 8, 9]])\n",
        "b = np.array([[1],[-1],[1]]) \n",
        "a2 = np.transpose(a) \n",
        "\n",
        "e = np.dot(a2, a)\n",
        "#reverse the matrix\n",
        "c = np.linalg.inv(e)\n",
        "d = np.dot(a2 , b)\n",
        "ans = np.dot(c, d)  \n",
        "print(np.add(ans , a))\n",
        "\n",
        "##############################################"
      ]
    },
    {
      "cell_type": "markdown",
      "metadata": {
        "id": "JsX3mS2yImzB"
      },
      "source": [
        "## Part B"
      ]
    },
    {
      "cell_type": "code",
      "execution_count": null,
      "metadata": {
        "id": "CodG2G7iImzD"
      },
      "outputs": [],
      "source": [
        "def window_sliding(A, B):\n",
        "\n",
        "  \"\"\"\n",
        "  In this function you should implement the sliding window method\n",
        "\n",
        "  Arguments:\n",
        "    inputs:\n",
        "      A: a matrix of 3*3 order for treating as the window\n",
        "      B: a matrix of 5*5 order for treating as the input matrix\n",
        "    outputs:\n",
        "      res: resulting matrix of the sliding window \n",
        "  \"\"\"\n",
        "\n",
        "  ##############################################\n",
        "  ############ YOUR CODES GO HERE ##############\n",
        "  \n",
        "  res = np.zeros((3 , 3))\n",
        "\n",
        "  for t in range(3):\n",
        "    for p in range(3):\n",
        "      hold = np.zeros((3 , 3))\n",
        "      for i in range(3):\n",
        "        for j in range(3):\n",
        "          hold[i][j] = A[i][j] * B[i + t][j + p]\n",
        "      res[p , t] = np.sum(hold)\n",
        "\n",
        "  res\n",
        "  ##############################################\n",
        "\n",
        "  return res"
      ]
    },
    {
      "cell_type": "code",
      "execution_count": null,
      "metadata": {
        "id": "cIMqyPhYImzF",
        "colab": {
          "base_uri": "https://localhost:8080/"
        },
        "outputId": "324c53ed-bbe7-4945-8528-76b6181bea31"
      },
      "outputs": [
        {
          "output_type": "stream",
          "name": "stdout",
          "text": [
            "[[-7. -5. -7.]\n",
            " [-5. -2. -5.]\n",
            " [-7. -5. -7.]]\n"
          ]
        }
      ],
      "source": [
        "A = [[1, 1, 1] , [1, -9 , 1] , [1 , 1 ,1]]\n",
        "B = [[1 , 1 , 1 , 1 ,1], [1, 2 , 2 , 2 , 1] , [1, 2 , 2 , 2 , 1] ,  [1, 2 , 2 , 2 , 1] ,  [1, 1 , 1 , 1, 1]]\n",
        "print(window_sliding(A, B))"
      ]
    }
  ],
  "metadata": {
    "language_info": {
      "name": "python"
    },
    "orig_nbformat": 4,
    "colab": {
      "provenance": []
    },
    "kernelspec": {
      "name": "python3",
      "display_name": "Python 3"
    },
    "gpuClass": "standard"
  },
  "nbformat": 4,
  "nbformat_minor": 0
}