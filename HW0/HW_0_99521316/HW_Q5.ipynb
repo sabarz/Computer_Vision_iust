{
  "cells": [
    {
      "cell_type": "markdown",
      "metadata": {
        "id": "lNKYy5P_DEV-"
      },
      "source": [
        "## Modifying the picture with opencv and numpy libraries"
      ]
    },
    {
      "cell_type": "code",
      "execution_count": 1,
      "metadata": {
        "id": "yexCZ1RCByIY"
      },
      "outputs": [],
      "source": [
        "import numpy as np\n",
        "import matplotlib.pyplot as plt\n",
        "import cv2"
      ]
    },
    {
      "cell_type": "code",
      "execution_count": 2,
      "metadata": {
        "id": "DiGiK-mBI7Ep"
      },
      "outputs": [],
      "source": [
        "!wget -q https://github.com/AlexeyAB/darknet/releases/download/yolov4/yolov7.weights "
      ]
    },
    {
      "cell_type": "code",
      "execution_count": 3,
      "metadata": {
        "id": "JMI8aEGBI7Eq"
      },
      "outputs": [],
      "source": [
        "!wget -q https://raw.githubusercontent.com/AlexeyAB/darknet/master/cfg/yolov7.cfg"
      ]
    },
    {
      "cell_type": "code",
      "execution_count": 4,
      "metadata": {
        "id": "0Z72Jw09-zmZ"
      },
      "outputs": [],
      "source": [
        "net = cv2.dnn.readNetFromDarknet('yolov7.cfg', 'yolov7.weights')\n",
        "net.setPreferableBackend(cv2.dnn.DNN_BACKEND_OPENCV)"
      ]
    },
    {
      "cell_type": "code",
      "execution_count": 5,
      "metadata": {
        "id": "_RCASdxi--fw"
      },
      "outputs": [],
      "source": [
        "yolo_model = cv2.dnn_DetectionModel(net)\n",
        "yolo_model.setInputParams(size=(1280, 1280), scale=1 / 255, swapRB=True)"
      ]
    },
    {
      "cell_type": "markdown",
      "metadata": {
        "id": "xThGxCMDDUFO"
      },
      "source": [
        "**Just run the above cells without any changes**"
      ]
    },
    {
      "cell_type": "code",
      "execution_count": 7,
      "metadata": {
        "id": "CBTcXsRpKjRM",
        "colab": {
          "base_uri": "https://localhost:8080/"
        },
        "outputId": "1697298f-ad5b-467c-d103-b5e6abc11a5d"
      },
      "outputs": [
        {
          "output_type": "stream",
          "name": "stdout",
          "text": [
            "(721, 1281, 3)\n",
            "uint8\n",
            "139.98719468688319\n",
            "255\n",
            "0\n",
            "[[126 113 152 ... 154 154 154]\n",
            " [128 128 149 ... 154 153 154]\n",
            " [135 156 148 ... 153 153 153]\n",
            " ...\n",
            " [122 122 123 ... 139 138 139]\n",
            " [123 124 124 ... 139 139 139]\n",
            " [123 123 123 ... 138 137 137]]\n",
            "########################################################\n",
            "[[126 113 152 ... 154 154 154]\n",
            " [128 128 149 ... 154 153 154]\n",
            " [135 156 148 ... 153 153 153]\n",
            " ...\n",
            " [122 122 123 ... 139 138 139]\n",
            " [123 124 124 ... 139 139 139]\n",
            " [123 123 123 ... 138 137 137]] [[147 136 175 ... 191 191 191]\n",
            " [149 149 172 ... 191 190 191]\n",
            " [156 177 171 ... 190 190 190]\n",
            " ...\n",
            " [121 121 122 ... 142 141 142]\n",
            " [122 123 123 ... 142 142 142]\n",
            " [122 122 122 ... 141 140 140]] [[144 132 171 ... 189 189 187]\n",
            " [146 146 168 ... 189 188 187]\n",
            " [153 174 167 ... 188 188 186]\n",
            " ...\n",
            " [107 107 108 ... 140 139 140]\n",
            " [108 109 109 ... 140 140 140]\n",
            " [108 108 108 ... 139 138 138]]\n"
          ]
        }
      ],
      "source": [
        "\"\"\"\n",
        "Please read the provided image in RGB with opencv lib and print the matrices\n",
        "\n",
        "see bellow links:\n",
        "https://numpy.org/doc/stable/reference/generated/numpy.maximum.html\n",
        "https://numpy.org/doc/stable/reference/generated/numpy.minimum.html\n",
        "https://numpy.org/doc/stable/reference/generated/numpy.mean.html\n",
        "\"\"\"\n",
        "image = cv2.imread('Q5.png')\n",
        "print(image.shape)\n",
        "print(image.dtype)\n",
        "print(np.mean(image))\n",
        "print(np.max(image))\n",
        "print(np.min(image))\n",
        "print(image[:, :,0])\n",
        "print(\"########################################################\")\n",
        "print(image[:, :,0] , image[:, :,1] , image[:, :,2])"
      ]
    },
    {
      "cell_type": "code",
      "execution_count": 8,
      "metadata": {
        "id": "N3xB0Rh2FRZ_"
      },
      "outputs": [],
      "source": [
        "\n",
        "#### Just run this cell \n",
        "\n",
        "\n",
        "CONFIDENCE_THRESHOLD = 0.2\n",
        "NMS_THRESHOLD = 0.4 \n",
        "\n",
        "classes, scores, boxes = yolo_model.detect(image, CONFIDENCE_THRESHOLD, NMS_THRESHOLD)\n",
        "\n",
        "detections = [(box, score) for classid, score, box in zip(classes, scores, boxes)]"
      ]
    },
    {
      "cell_type": "markdown",
      "metadata": {
        "id": "Ot4ivZb6H7r7"
      },
      "source": [
        "the result of the detection is classes of each object, \n",
        "confidence of predicting the class of that object and parameters of the bounding box\n",
        "\n",
        "for every bounding box, we have bellow information:\n",
        "\n",
        "x_min: the x coordinate of the left up corner of the bounding box\n",
        "\n",
        "y_min: the y coordinate of the left up corner of the bounding box\n",
        "\n",
        "w: the width of the bounding box\n",
        "\n",
        "h: the height of the bounding box"
      ]
    },
    {
      "cell_type": "code",
      "execution_count": null,
      "metadata": {
        "id": "GjB_FADQH7bF"
      },
      "outputs": [],
      "source": [
        "### please print the details of the detections\n",
        "for x in detections:\n",
        "  for y in x[0]:\n",
        "    print(y) \n",
        "  print(x[1])\n",
        "  print(\"####\")\n"
      ]
    },
    {
      "cell_type": "code",
      "execution_count": 10,
      "metadata": {
        "id": "OplX-80cLma3"
      },
      "outputs": [],
      "source": [
        "def visualize(frame, detections):\n",
        "  \"\"\"\n",
        "  Draw all bounding boxes on the main original image and show the result\n",
        "  Then save result with result.png name\n",
        "\n",
        "  see the bellow links:\n",
        "  https://matplotlib.org/stable/api/_as_gen/matplotlib.pyplot.imshow.html\n",
        "  https://www.geeksforgeeks.org/python-opencv-cv2-imwrite-method/\n",
        "  \"\"\"\n",
        "\n",
        "  ########################################\n",
        "  ########### YOUR CODES GO HERE #########\n",
        "  \n",
        "  for x in detections:\n",
        "    generated_img = cv2.rectangle(frame , pt1 = (x[0][0] , x[0][1]), pt2 = (x[0][0] + x[0][2] , x[0][1] + x[0][3]) , color=(255,0,0), thickness=2)\n",
        "  cv2.imwrite(\"result.png\", generated_img)\n",
        "\n",
        "  ########################################"
      ]
    },
    {
      "cell_type": "code",
      "execution_count": 11,
      "metadata": {
        "id": "bPc3unKsLwaj"
      },
      "outputs": [],
      "source": [
        "visualize(image, detections)"
      ]
    },
    {
      "cell_type": "code",
      "execution_count": 12,
      "metadata": {
        "colab": {
          "base_uri": "https://localhost:8080/"
        },
        "id": "ec-yb4S6I7E1",
        "outputId": "46b34538-d55b-4b65-e3b2-1a19d38fd649"
      },
      "outputs": [
        {
          "output_type": "stream",
          "name": "stdout",
          "text": [
            "result.png\n",
            "yes\n"
          ]
        }
      ],
      "source": [
        "# Check if file has been saved or not\n",
        "!(ls result.png && echo yes) || echo no"
      ]
    }
  ],
  "metadata": {
    "colab": {
      "provenance": []
    },
    "kernelspec": {
      "display_name": "ann_fuzzy",
      "language": "python",
      "name": "python3"
    },
    "language_info": {
      "codemirror_mode": {
        "name": "ipython",
        "version": 3
      },
      "file_extension": ".py",
      "mimetype": "text/x-python",
      "name": "python",
      "nbconvert_exporter": "python",
      "pygments_lexer": "ipython3",
      "version": "3.9.16"
    },
    "vscode": {
      "interpreter": {
        "hash": "ae9f58b7d9e04f28b9243080ecc95e12abe73d3533e4e38f6cc83b7244ec2903"
      }
    }
  },
  "nbformat": 4,
  "nbformat_minor": 0
}