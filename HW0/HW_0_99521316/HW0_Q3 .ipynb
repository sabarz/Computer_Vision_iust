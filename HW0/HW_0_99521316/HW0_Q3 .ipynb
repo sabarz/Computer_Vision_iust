{
  "cells": [
    {
      "cell_type": "markdown",
      "metadata": {
        "id": "P9PoDHBl3QKv"
      },
      "source": [
        "# Q3\n",
        "*Work with Numpy*<br>\n",
        "In this notebook you're going to work with the numpy library to solve the problems<br>\n",
        "Please follow the instructions and hints provided for each cell"
      ]
    },
    {
      "cell_type": "markdown",
      "metadata": {
        "id": "a1lmvBrgQS2w"
      },
      "source": [
        "## Part A"
      ]
    },
    {
      "cell_type": "code",
      "execution_count": 4,
      "metadata": {
        "id": "1ZbZ5H1j5Zhw"
      },
      "outputs": [],
      "source": [
        "import numpy as np"
      ]
    },
    {
      "cell_type": "code",
      "execution_count": 15,
      "metadata": {
        "id": "5nvuXUyB2aLJ"
      },
      "outputs": [],
      "source": [
        "def create_matrix(n):\n",
        "  \"\"\"\n",
        "  In this function you should create matrix in order of n*n with random numbers \n",
        "  in the [n, n+100) interval.\n",
        "\n",
        "  see the bellow link:\n",
        "    https://numpy.org/doc/stable/reference/random/generated/numpy.random.randint.html\n",
        "\n",
        "  Arguments:\n",
        "    inputs:\n",
        "      n: an integer describing the order of the matrix\n",
        "    outputs:\n",
        "      created matrix  \n",
        "  \"\"\"\n",
        "  ##############################################\n",
        "  ############ YOUR CODES GO HERE ##############\n",
        "  matrix = np.random.randint(n , n+100 , (n , n))\n",
        "  ##############################################\n",
        "\n",
        "  return matrix"
      ]
    },
    {
      "cell_type": "code",
      "execution_count": 16,
      "metadata": {
        "id": "1PiKjLsl6KhD"
      },
      "outputs": [],
      "source": [
        "\"\"\"\n",
        "In this cell you should get the input n and create the matrix by calling the function\n",
        "Then print the matrix\n",
        "\"\"\"\n",
        "##############################################\n",
        "############ YOUR CODES GO HERE ##############\n",
        "def get_input():\n",
        "  n = input()\n",
        "  matrix = create_matrix(int(n))\n",
        "  print(matrix)\n",
        "  return matrix\n",
        "##############################################"
      ]
    },
    {
      "cell_type": "code",
      "execution_count": 17,
      "metadata": {
        "id": "Cnocq2_56mdx"
      },
      "outputs": [],
      "source": [
        "def count_digits(matrix):\n",
        "  \"\"\"\n",
        "  In this function you should implement a routine to count the digits in the given matrix.\n",
        "\n",
        "  Arguments:\n",
        "    inputs:\n",
        "      matrix: input matrix\n",
        "    outputs:\n",
        "      digits: a dictionary containing digits as its keys and the counted numbers as its value\n",
        "  \"\"\"\n",
        "\n",
        "  ##############################################\n",
        "  ############ YOUR CODES GO HERE ##############\n",
        "  digits = {}\n",
        "  for i in range(len(matrix)):\n",
        "    for j in range(len(matrix)):\n",
        "      for p in str(matrix[i , j]):\n",
        "        if p in digits:\n",
        "          digits[p] += 1\n",
        "        else:\n",
        "          digits[p] = 1\n",
        "  ##############################################\n",
        "\n",
        "  return digits\n"
      ]
    },
    {
      "cell_type": "code",
      "execution_count": 18,
      "metadata": {
        "id": "Aq3mHGcc7f2i",
        "colab": {
          "base_uri": "https://localhost:8080/"
        },
        "outputId": "4a2e3a04-9cd3-4866-87c9-eee169311fee"
      },
      "outputs": [
        {
          "output_type": "stream",
          "name": "stdout",
          "text": [
            "3\n",
            "[[49 19 50]\n",
            " [25 37 32]\n",
            " [85 18  4]]\n",
            "{'4': 2, '9': 2, '1': 2, '5': 3, '0': 1, '2': 2, '3': 2, '7': 1, '8': 2}\n"
          ]
        }
      ],
      "source": [
        "\"\"\"\n",
        "In this cell call the implemented function and print the result\n",
        "\"\"\"\n",
        "\n",
        "##############################################\n",
        "############ YOUR CODES GO HERE ##############\n",
        "m = get_input()\n",
        "print(count_digits(m))\n",
        "##############################################"
      ]
    },
    {
      "cell_type": "markdown",
      "metadata": {
        "id": "ALqhYliZ8Ie8"
      },
      "source": [
        "## Part B"
      ]
    },
    {
      "cell_type": "code",
      "execution_count": 13,
      "metadata": {
        "id": "bhTfjtO78LT1"
      },
      "outputs": [],
      "source": [
        "def traverse_matrix(matrix):\n",
        "  \"\"\"\n",
        "  Traverse the input matrix in the given manner then print result\n",
        "\n",
        "  Arguments:\n",
        "    inputs:\n",
        "      matrix: input matrix\n",
        "    outputs\n",
        "  \"\"\"\n",
        "\n",
        "  ##############################################\n",
        "  ############ YOUR CODES GO HERE ##############\n",
        "  i = 0 \n",
        "  j = 0\n",
        "\n",
        "  ans = []\n",
        "  ans.append((0, 0))\n",
        "  while True:\n",
        "    if j < len(matrix) - 1:\n",
        "      j += 1\n",
        "    else:\n",
        "      i += 1\n",
        "    while i < len(matrix) and j >= 0:\n",
        "      ans.append((i , j))\n",
        "      i += 1 \n",
        "      j -= 1\n",
        "    i -= 1\n",
        "    j += 1\n",
        "\n",
        "    if i < len(matrix) - 1 :\n",
        "      i += 1\n",
        "    else :\n",
        "      j += 1\n",
        "    \n",
        "    while i >= 0 and j < len(matrix):\n",
        "      ans.append((i , j))\n",
        "      i -= 1\n",
        "      j += 1\n",
        "    \n",
        "    if len(ans) == pow(len(matrix) , 2):\n",
        "      break\n",
        "    i += 1\n",
        "    j -= 1\n",
        "\n",
        "  print(ans)\n",
        "  ##############################################"
      ]
    },
    {
      "cell_type": "code",
      "execution_count": 14,
      "metadata": {
        "id": "9Imf-wvd8oKL",
        "colab": {
          "base_uri": "https://localhost:8080/"
        },
        "outputId": "3f861296-aa16-4388-f8bb-989d6563d8c6"
      },
      "outputs": [
        {
          "output_type": "stream",
          "name": "stdout",
          "text": [
            "[(0, 0), (0, 1), (1, 0), (2, 0), (1, 1), (0, 2), (0, 3), (1, 2), (2, 1), (3, 0), (4, 0), (3, 1), (2, 2), (1, 3), (0, 4), (0, 5), (1, 4), (2, 3), (3, 2), (4, 1), (5, 0), (5, 1), (4, 2), (3, 3), (2, 4), (1, 5), (2, 5), (3, 4), (4, 3), (5, 2), (5, 3), (4, 4), (3, 5), (4, 5), (5, 4), (5, 5)]\n"
          ]
        }
      ],
      "source": [
        "matrix = np.zeros((6 ,6))\n",
        "traverse_matrix(matrix)\n"
      ]
    }
  ],
  "metadata": {
    "colab": {
      "provenance": []
    },
    "kernelspec": {
      "display_name": "Python 3",
      "name": "python3"
    },
    "language_info": {
      "name": "python"
    }
  },
  "nbformat": 4,
  "nbformat_minor": 0
}