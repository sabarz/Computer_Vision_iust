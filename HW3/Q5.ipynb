{
  "cells": [
    {
      "cell_type": "markdown",
      "metadata": {
        "id": "AfC8H5-JK9uX"
      },
      "source": [
        "<h1>\n",
        "<font color=\"#ff2e2e\">\n",
        "Corner Detection\n",
        "</font>\n",
        "</h1>"
      ]
    },
    {
      "cell_type": "code",
      "execution_count": null,
      "metadata": {
        "id": "qHQQqO2BK1_k"
      },
      "outputs": [],
      "source": [
        "import cv2\n",
        "import numpy as np\n",
        "import matplotlib.pyplot as plt\n",
        "import os"
      ]
    },
    {
      "cell_type": "markdown",
      "metadata": {
        "id": "xWhiaAqTXAa8"
      },
      "source": [
        "<h3><font color = \"#079e05\"> This function is used to plot your result </font></h3>"
      ]
    },
    {
      "cell_type": "code",
      "execution_count": null,
      "metadata": {
        "id": "FCv3VMN0W-7N"
      },
      "outputs": [],
      "source": [
        "def plotter(img_list, r, w, gray, wr, hr, fig_name = None):\n",
        "    '''\n",
        "    Plots images' list with its' caption and saves result image if you want.\n",
        "\n",
        "    Parameters:\n",
        "        img_list (list): The list of tuples of image and its' caption.\n",
        "        r (int): The number of row(s).\n",
        "        w (int): The number of colunm(s).\n",
        "        gray (bool): The flag for plotting images in grayscale mode.\n",
        "        wr (int): The width of one figure.\n",
        "        hr (int): The height of one figure.\n",
        "        fig_name (str): The name of the image of the plot. if not set this parameter the plot doesn't save.\n",
        "    '''\n",
        "    \n",
        "    plt.rcParams['figure.figsize'] = (wr, hr)\n",
        "    for i in range(len(img_list)):\n",
        "        plt.subplot(r, w, i + 1)\n",
        "        if img_list[i][2] == 'img':\n",
        "            if gray:\n",
        "                plt.imshow(img_list[i][0], cmap = 'gray')\n",
        "            else:\n",
        "                plt.imshow(img_list[i][0])\n",
        "            plt.xticks([])\n",
        "            plt.yticks([])\n",
        "        elif img_list[i][2] == 'hist':\n",
        "            plt.bar(np.arange(len(img_list[i][0])), img_list[i][0], color = 'c')\n",
        "        else:\n",
        "            raise Exception(\"Only image or histogram. Use third parameter of tuples in img_list and set it to img or hist.\")\n",
        "        plt.title(img_list[i][1])\n",
        "    if fig_name is not None:\n",
        "        plt.savefig(fig_name + '.png')\n",
        "    plt.show()"
      ]
    },
    {
      "cell_type": "markdown",
      "metadata": {
        "id": "zw2x-jBYLWnW"
      },
      "source": [
        "<h3><font color = \"#079e05\"> Complete the harris_points function without using OpenCV functions </font></h3>"
      ]
    },
    {
      "cell_type": "code",
      "execution_count": null,
      "metadata": {
        "id": "5n4bZvJrMBgQ"
      },
      "outputs": [],
      "source": [
        "def harris_points(image):\n",
        "    '''\n",
        "    Gets corner points by applying the harris detection algorithm.\n",
        "    \n",
        "    Parameters:\n",
        "        image (numpy.ndarray): The input image.\n",
        "    \n",
        "    Returns:\n",
        "        numpy.ndarray: The result image.\n",
        "    '''    \n",
        "    result = image.copy()\n",
        "    \n",
        "    #############\n",
        "    # Your code #\n",
        "    #############\n",
        "    \n",
        "    return result"
      ]
    },
    {
      "cell_type": "markdown",
      "metadata": {
        "id": "cKw2zNMuNsfe"
      },
      "source": [
        "<h3><font color = \"#079e05\"> Show the result </font></h3>"
      ]
    },
    {
      "cell_type": "code",
      "execution_count": null,
      "metadata": {
        "id": "fLCSvtRkN1Na"
      },
      "outputs": [],
      "source": [
        "image_list = []\n",
        "image = cv2.imread(os.path.join('images/Q5', 'harris.jpg'))\n",
        "image_list.append([cv2.cvtColor(image, cv2.COLOR_BGR2RGB), 'source', 'img'])\n",
        "image_list.append([harris_points(image), 'harris_points', 'img'])\n",
        "plotter(image_list,1 , 2, True, 20, 10, '7')"
      ]
    },
    {
      "cell_type": "markdown",
      "metadata": {
        "id": "pwSK5eulglrh"
      },
      "source": [
        "<h3><font color = \"#079e05\"> Complete the harris_points_OpenCV function with using OpenCV functions </font></h3>"
      ]
    },
    {
      "cell_type": "code",
      "execution_count": null,
      "metadata": {
        "id": "UXUwT8v3gpJd"
      },
      "outputs": [],
      "source": [
        "def harris_points_OpenCV(image):\n",
        "    '''\n",
        "    Gets corner points by applying the harris detection algorithm.\n",
        "    \n",
        "    Parameters:\n",
        "        image (numpy.ndarray): The input image.\n",
        "    \n",
        "    Returns:\n",
        "        numpy.ndarray: The result image.\n",
        "    '''  \n",
        "    \n",
        "    #############\n",
        "    # Your code #\n",
        "    #############\n",
        "    \n",
        "    return result"
      ]
    },
    {
      "cell_type": "markdown",
      "metadata": {
        "id": "9HDmPwV1gpvt"
      },
      "source": [
        "<h3><font color = \"#079e05\"> Show the result </font></h3>"
      ]
    },
    {
      "cell_type": "code",
      "execution_count": null,
      "metadata": {
        "id": "lB8mSPS6gr21"
      },
      "outputs": [],
      "source": [
        "image_list = []\n",
        "image = cv2.imread(os.path.join('images/Q5', 'harris.jpg'))\n",
        "image_list.append([cv2.cvtColor(image, cv2.COLOR_BGR2RGB), 'source', 'img'])\n",
        "image_list.append([harris_points_OpenCV(image), 'harris_points_OpenCV', 'img'])\n",
        "plotter(image_list,1 , 2, True, 20, 10, '7')"
      ]
    }
  ],
  "metadata": {
    "colab": {
      "provenance": []
    },
    "kernelspec": {
      "display_name": "Python 3",
      "name": "python3"
    },
    "language_info": {
      "name": "python"
    }
  },
  "nbformat": 4,
  "nbformat_minor": 0
}
