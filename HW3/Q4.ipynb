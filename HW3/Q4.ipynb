{
  "cells": [
    {
      "attachments": {},
      "cell_type": "markdown",
      "metadata": {
        "id": "AfC8H5-JK9uX"
      },
      "source": [
        "<h1>\n",
        "<font color=\"#ff2e2e\">\n",
        "CamScanner\n",
        "</font>\n",
        "</h1>"
      ]
    },
    {
      "cell_type": "code",
      "execution_count": null,
      "metadata": {
        "id": "qHQQqO2BK1_k"
      },
      "outputs": [],
      "source": [
        "import cv2\n",
        "import numpy as np\n",
        "import matplotlib.pyplot as plt\n",
        "import os"
      ]
    },
    {
      "attachments": {},
      "cell_type": "markdown",
      "metadata": {
        "id": "xWhiaAqTXAa8"
      },
      "source": [
        "<h3><font color = \"#079e05\"> Utilities </font></h3>"
      ]
    },
    {
      "cell_type": "code",
      "execution_count": null,
      "metadata": {
        "id": "FCv3VMN0W-7N"
      },
      "outputs": [],
      "source": [
        "def imshow(im):\n",
        "    width, height, *channels = im.shape\n",
        "    if channels:\n",
        "        # By default, OpenCV tends to work with images in the BGR format.\n",
        "        # This is due to some outdated practices, but it has been left in the library.\n",
        "        # We can iterate the channels in reverse order to get an RGB image.\n",
        "        plt.imshow(im[:,:,::-1])\n",
        "    else:\n",
        "        plt.imshow(im, cmap='gray')\n",
        "    plt.axis('off')"
      ]
    },
    {
      "cell_type": "code",
      "execution_count": null,
      "metadata": {},
      "outputs": [],
      "source": [
        "def reorder(vertices):\n",
        "    # OpenCV *prefers* if we use `np.float32`.\n",
        "    reordered = np.zeros_like(vertices, dtype=np.float32)\n",
        "    add = vertices.sum(1)\n",
        "    reordered[0] = vertices[np.argmin(add)]\n",
        "    reordered[2] = vertices[np.argmax(add)]\n",
        "    diff = np.diff(vertices, axis=1)\n",
        "    reordered[1] = vertices[np.argmin(diff)]\n",
        "    reordered[3] = vertices[np.argmax(diff)]\n",
        "    return reordered"
      ]
    },
    {
      "attachments": {},
      "cell_type": "markdown",
      "metadata": {
        "id": "zw2x-jBYLWnW"
      },
      "source": [
        "<h3><font color = \"#079e05\"> Image </font></h3>"
      ]
    },
    {
      "cell_type": "code",
      "execution_count": null,
      "metadata": {},
      "outputs": [],
      "source": [
        "im = None\n",
        "imshow(im)"
      ]
    },
    {
      "attachments": {},
      "cell_type": "markdown",
      "metadata": {},
      "source": [
        "<h3><font color = \"#079e05\"> Process </font></h3>"
      ]
    },
    {
      "cell_type": "code",
      "execution_count": null,
      "metadata": {},
      "outputs": [],
      "source": []
    },
    {
      "cell_type": "markdown",
      "metadata": {
        "id": "cKw2zNMuNsfe"
      },
      "source": [
        "<h3><font color = \"#079e05\"> Show the result </font></h3>"
      ]
    },
    {
      "cell_type": "code",
      "execution_count": null,
      "metadata": {},
      "outputs": [],
      "source": []
    }
  ],
  "metadata": {
    "colab": {
      "provenance": []
    },
    "kernelspec": {
      "display_name": "Python 3",
      "name": "python3"
    },
    "language_info": {
      "name": "python"
    }
  },
  "nbformat": 4,
  "nbformat_minor": 0
}
