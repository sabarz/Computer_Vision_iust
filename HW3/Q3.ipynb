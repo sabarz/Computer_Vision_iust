{
  "cells": [
    {
      "cell_type": "markdown",
      "metadata": {
        "id": "AfC8H5-JK9uX"
      },
      "source": [
        "<h1>\n",
        "<font color=\"#ff2e2e\">\n",
        "Mask Overlay\n",
        "</font>\n",
        "</h1>"
      ]
    },
    {
      "cell_type": "code",
      "execution_count": null,
      "metadata": {
        "id": "qHQQqO2BK1_k"
      },
      "outputs": [],
      "source": [
        "import cv2\n",
        "import numpy as np\n",
        "import matplotlib.pyplot as plt\n",
        "import os\n",
        "import dlib"
      ]
    },
    {
      "cell_type": "markdown",
      "metadata": {
        "id": "xWhiaAqTXAa8"
      },
      "source": [
        "<h3><font color = \"#079e05\"> This function is used to plot your result </font></h3>"
      ]
    },
    {
      "cell_type": "code",
      "execution_count": null,
      "metadata": {
        "id": "FCv3VMN0W-7N"
      },
      "outputs": [],
      "source": [
        "def plotter(img_list, r, w, gray, wr, hr, fig_name = None):\n",
        "    '''\n",
        "    Plots images' list with its' caption and saves result image if you want.\n",
        "\n",
        "    Parameters:\n",
        "        img_list (list): The list of tuples of image and its' caption.\n",
        "        r (int): The number of row(s).\n",
        "        w (int): The number of colunm(s).\n",
        "        gray (bool): The flag for plotting images in grayscale mode.\n",
        "        wr (int): The width of one figure.\n",
        "        hr (int): The height of one figure.\n",
        "        fig_name (str): The name of the image of the plot. if not set this parameter the plot doesn't save.\n",
        "    '''\n",
        "    \n",
        "    plt.rcParams['figure.figsize'] = (wr, hr)\n",
        "    for i in range(len(img_list)):\n",
        "        plt.subplot(r, w, i + 1)\n",
        "        if img_list[i][2] == 'img':\n",
        "            if gray:\n",
        "                plt.imshow(img_list[i][0], cmap = 'gray')\n",
        "            else:\n",
        "                plt.imshow(img_list[i][0])\n",
        "            plt.xticks([])\n",
        "            plt.yticks([])\n",
        "        elif img_list[i][2] == 'hist':\n",
        "            plt.bar(np.arange(len(img_list[i][0])), img_list[i][0], color = 'c')\n",
        "        else:\n",
        "            raise Exception(\"Only image or histogram. Use third parameter of tuples in img_list and set it to img or hist.\")\n",
        "        plt.title(img_list[i][1])\n",
        "    if fig_name is not None:\n",
        "        plt.savefig(fig_name + '.png')\n",
        "    plt.show()"
      ]
    },
    {
      "cell_type": "markdown",
      "metadata": {
        "id": "zw2x-jBYLWnW"
      },
      "source": [
        "<h3><font color = \"#079e05\"> Complete put_mask function </font></h3>"
      ]
    },
    {
      "cell_type": "code",
      "execution_count": null,
      "metadata": {
        "id": "5n4bZvJrMBgQ"
      },
      "outputs": [],
      "source": [
        "def put_mask(face, mask):\n",
        "    '''\n",
        "    Adds mask image on face image.\n",
        "    \n",
        "    Parameters:\n",
        "        face (numpy.ndarray): face image.\n",
        "        mask (numpy.ndarray): mask image.\n",
        "    \n",
        "    Returns:\n",
        "        numpy.ndarray: The result image.\n",
        "    '''\n",
        "\n",
        "    #############\n",
        "    # Your code #\n",
        "    #############\n",
        "    \n",
        "    return result"
      ]
    },
    {
      "cell_type": "markdown",
      "metadata": {
        "id": "cKw2zNMuNsfe"
      },
      "source": [
        "<h3><font color = \"#079e05\"> Show the result </font></h3>"
      ]
    },
    {
      "cell_type": "code",
      "execution_count": null,
      "metadata": {
        "id": "fLCSvtRkN1Na"
      },
      "outputs": [],
      "source": [
        "image_list = []\n",
        "face = cv2.cvtColor(cv2.imread(os.path.join('images/Q3', 'face.jpg')), cv2.COLOR_BGR2RGB)\n",
        "mask = cv2.cvtColor(cv2.imread(os.path.join('images/Q3', 'mask.jpg')), cv2.COLOR_BGR2RGB)\n",
        "image_list.append([face, 'face', 'img'])\n",
        "image_list.append([put_mask(face, mask), 'result', 'img'])\n",
        "plotter(image_list, 1, 2, True, 20, 10, '3')"
      ]
    }
  ],
  "metadata": {
    "colab": {
      "provenance": []
    },
    "kernelspec": {
      "display_name": "Python 3",
      "name": "python3"
    },
    "language_info": {
      "name": "python"
    }
  },
  "nbformat": 4,
  "nbformat_minor": 0
}
