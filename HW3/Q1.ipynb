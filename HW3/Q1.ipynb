{
  "cells": [
    {
      "cell_type": "markdown",
      "metadata": {
        "id": "AfC8H5-JK9uX"
      },
      "source": [
        "<h1>\n",
        "<font color=\"#ff2e2e\">\n",
        "Color Space Conversion\n",
        "</font>\n",
        "</h1>"
      ]
    },
    {
      "cell_type": "code",
      "execution_count": null,
      "metadata": {
        "id": "qHQQqO2BK1_k"
      },
      "outputs": [],
      "source": [
        "import cv2\n",
        "import numpy as np\n",
        "import matplotlib.pyplot as plt\n",
        "import os"
      ]
    },
    {
      "cell_type": "markdown",
      "metadata": {
        "id": "xWhiaAqTXAa8"
      },
      "source": [
        "<h3><font color = \"#079e05\"> This function is used to plot your result </font></h3>"
      ]
    },
    {
      "cell_type": "code",
      "execution_count": null,
      "metadata": {
        "id": "FCv3VMN0W-7N"
      },
      "outputs": [],
      "source": [
        "def plotter(img_list, r, w, gray, wr, hr, fig_name = None):\n",
        "    '''\n",
        "    Plots images' list with its' caption and saves result image if you want.\n",
        "\n",
        "    Parameters:\n",
        "        img_list (list): The list of tuples of image and its' caption.\n",
        "        r (int): The number of row(s).\n",
        "        w (int): The number of colunm(s).\n",
        "        gray (bool): The flag for plotting images in grayscale mode.\n",
        "        wr (int): The width of one figure.\n",
        "        hr (int): The height of one figure.\n",
        "        fig_name (str): The name of the image of the plot. if not set this parameter the plot doesn't save.\n",
        "    '''\n",
        "    \n",
        "    plt.rcParams['figure.figsize'] = (wr, hr)\n",
        "    for i in range(len(img_list)):\n",
        "        plt.subplot(r, w, i + 1)\n",
        "        if img_list[i][2] == 'img':\n",
        "            if gray:\n",
        "                plt.imshow(img_list[i][0], cmap = 'gray')\n",
        "            else:\n",
        "                plt.imshow(img_list[i][0])\n",
        "            plt.xticks([])\n",
        "            plt.yticks([])\n",
        "        elif img_list[i][2] == 'hist':\n",
        "            plt.bar(np.arange(len(img_list[i][0])), img_list[i][0], color = 'c')\n",
        "        else:\n",
        "            raise Exception(\"Only image or histogram. Use third parameter of tuples in img_list and set it to img or hist.\")\n",
        "        plt.title(img_list[i][1])\n",
        "    if fig_name is not None:\n",
        "        plt.savefig(fig_name + '.png')\n",
        "    plt.show()"
      ]
    },
    {
      "attachments": {},
      "cell_type": "markdown",
      "metadata": {
        "id": "zw2x-jBYLWnW"
      },
      "source": [
        "<h3><font color = \"#079e05\"> BGR to YCbCr </font></h3>"
      ]
    },
    {
      "cell_type": "code",
      "execution_count": null,
      "metadata": {
        "id": "5n4bZvJrMBgQ"
      },
      "outputs": [],
      "source": [
        "def convert_to_ycbcr(image):\n",
        "    '''\n",
        "    Converts the color space of the input image to the YCbCr color space.\n",
        "    \n",
        "    Parameters:\n",
        "        image (numpy.ndarray): The input image.\n",
        "    \n",
        "    Returns:\n",
        "        numpy.ndarray: The result image.\n",
        "    '''\n",
        "\n",
        "    #############\n",
        "    # Your code #\n",
        "    #############\n",
        "    \n",
        "    return result"
      ]
    },
    {
      "cell_type": "markdown",
      "metadata": {
        "id": "ZpRO1jAslRVS"
      },
      "source": [
        "<h3><font color = \"#079e05\"> BGR to HSV </font></h3>"
      ]
    },
    {
      "cell_type": "code",
      "execution_count": null,
      "metadata": {
        "id": "XidSjku1lZKp"
      },
      "outputs": [],
      "source": [
        "def convert_to_hsv(image):\n",
        "    '''\n",
        "    Converts the color space of the input image to the HSV color space.\n",
        "    \n",
        "    Parameters:\n",
        "        image (numpy.ndarray): The input image.\n",
        "    \n",
        "    Returns:\n",
        "        numpy.ndarray: The result image.\n",
        "    '''\n",
        "\n",
        "    #############\n",
        "    # Your code #\n",
        "    #############\n",
        "        \n",
        "    return result"
      ]
    },
    {
      "cell_type": "markdown",
      "metadata": {
        "id": "cKw2zNMuNsfe"
      },
      "source": [
        "<h3><font color = \"#079e05\"> Show the result </font></h3>"
      ]
    },
    {
      "cell_type": "code",
      "execution_count": null,
      "metadata": {
        "id": "fLCSvtRkN1Na"
      },
      "outputs": [],
      "source": [
        "image_list = []\n",
        "image = cv2.imread(os.path.join('images/Q1', '1.jpg'))\n",
        "image_list.append([cv2.cvtColor(image, cv2.COLOR_BGR2RGB), 'source', 'img'])\n",
        "image_list.append([convert_to_hsv(image), 'HSV', 'img'])\n",
        "image_list.append([convert_to_ycbcr(image), 'YCBCR', 'img'])\n",
        "plotter(image_list,1 , 3, True, 20, 10, '2A')"
      ]
    },
    {
      "attachments": {},
      "cell_type": "markdown",
      "metadata": {},
      "source": [
        "<h1>\n",
        "<font color=\"#ff2e2e\">\n",
        "Finding Differences\n",
        "</font>\n",
        "</h1>"
      ]
    },
    {
      "cell_type": "code",
      "execution_count": null,
      "metadata": {},
      "outputs": [],
      "source": [
        "def dif(image1, image2):\n",
        "    '''\n",
        "    Creates a new image that differences between two input images are shown.\n",
        "    \n",
        "    Parameters:\n",
        "        image1 (numpy.ndarray): The first input image.\n",
        "        image2 (numpy.ndarray): The second input image.\n",
        "    \n",
        "    Returns:\n",
        "        numpy.ndarray: The result difference image.\n",
        "    '''\n",
        "    #############\n",
        "    # Your code #\n",
        "    #############\n",
        "    \n",
        "    return result"
      ]
    },
    {
      "cell_type": "code",
      "execution_count": null,
      "metadata": {},
      "outputs": [],
      "source": [
        "image_list = []\n",
        "\n",
        "image1 = cv2.imread(os.path.join('images/Q1', '2.png'))\n",
        "image_list.append([cv2.cvtColor(image1, cv2.COLOR_BGR2RGB), 'img1', 'img'])\n",
        "image2 = cv2.imread(os.path.join('images/Q1', '3.png'))\n",
        "image_list.append([cv2.cvtColor(image2, cv2.COLOR_BGR2RGB), 'img2', 'img'])\n",
        "\n",
        "image1 = cv2.imread(os.path.join('images/Q1', '2.png'), cv2.IMREAD_GRAYSCALE)\n",
        "image2 = cv2.imread(os.path.join('images/Q1', '3.png'), cv2.IMREAD_GRAYSCALE)\n",
        "image_list.append([dif(image1, image2), 'diff', 'img'])\n",
        "\n",
        "plotter(image_list,1 , 3, True, 20, 10, '2B')"
      ]
    }
  ],
  "metadata": {
    "colab": {
      "provenance": []
    },
    "kernelspec": {
      "display_name": "Python 3",
      "name": "python3"
    },
    "language_info": {
      "name": "python"
    }
  },
  "nbformat": 4,
  "nbformat_minor": 0
}
