{
  "nbformat": 4,
  "nbformat_minor": 0,
  "metadata": {
    "colab": {
      "provenance": []
    },
    "kernelspec": {
      "name": "python3",
      "display_name": "Python 3"
    },
    "language_info": {
      "name": "python"
    }
  },
  "cells": [
    {
      "cell_type": "markdown",
      "source": [
        "<h1>\n",
        "<font color=\"#ff2e2e\">\n",
        "Panorama with OpenCV\n",
        "</font>\n",
        "</h1>"
      ],
      "metadata": {
        "id": "AfC8H5-JK9uX"
      }
    },
    {
      "cell_type": "code",
      "execution_count": null,
      "metadata": {
        "id": "qHQQqO2BK1_k"
      },
      "outputs": [],
      "source": [
        "import numpy as np\n",
        "import cv2\n",
        "import glob\n",
        "import matplotlib.pylab as plt\n",
        "import os"
      ]
    },
    {
      "cell_type": "markdown",
      "source": [
        "<h3><font color = \"#079e05\"> Read input images from 1 to 8 and show them in a row together </font></h3>"
      ],
      "metadata": {
        "id": "zw2x-jBYLWnW"
      }
    },
    {
      "cell_type": "code",
      "source": [],
      "metadata": {
        "id": "5n4bZvJrMBgQ"
      },
      "execution_count": null,
      "outputs": []
    },
    {
      "cell_type": "markdown",
      "source": [
        "<h3><font color = \"#079e05\"> Initialize OpenCV's image sticher object and then perform the image stitching on input images </font></h3>"
      ],
      "metadata": {
        "id": "aKK5MyiiNHpc"
      }
    },
    {
      "cell_type": "code",
      "source": [],
      "metadata": {
        "id": "f59VUxdDNr-F"
      },
      "execution_count": null,
      "outputs": []
    },
    {
      "cell_type": "markdown",
      "source": [
        "<h3><font color = \"#079e05\"> Show the result </font></h3>"
      ],
      "metadata": {
        "id": "cKw2zNMuNsfe"
      }
    },
    {
      "cell_type": "code",
      "source": [],
      "metadata": {
        "id": "fLCSvtRkN1Na"
      },
      "execution_count": null,
      "outputs": []
    }
  ]
}