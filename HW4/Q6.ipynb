{
  "cells": [
    {
      "attachments": {},
      "cell_type": "markdown",
      "metadata": {},
      "source": [
        "# Q6"
      ]
    },
    {
      "cell_type": "markdown",
      "metadata": {
        "id": "GAMvBlAzZonI"
      },
      "source": [
        "Import some prerequisites:"
      ]
    },
    {
      "cell_type": "code",
      "execution_count": 2,
      "metadata": {
        "id": "7B9D-UF_ZonJ",
        "scrolled": true
      },
      "outputs": [],
      "source": [
        "import cv2\n",
        "import numpy as np\n",
        "import matplotlib.pyplot as plt"
      ]
    },
    {
      "cell_type": "markdown",
      "metadata": {
        "id": "viSODgxHZonL"
      },
      "source": [
        "Run this cell for plotting."
      ]
    },
    {
      "cell_type": "code",
      "execution_count": 3,
      "metadata": {
        "id": "yJ4dfAnxZonL"
      },
      "outputs": [],
      "source": [
        "def plotter(img_list, r, w, gray, wr, hr, fig_name = None):\n",
        "    '''\n",
        "    Plots images' list with its' caption and saves result image if you want.\n",
        "\n",
        "    Parameters:\n",
        "        img_list (list): The list of tuples of image and its' caption.\n",
        "        r (int): The number of row(s).\n",
        "        w (int): The number of colunm(s).\n",
        "        gray (bool): The flag for plotting images in grayscale mode.\n",
        "        wr (int): The width of one figure.\n",
        "        hr (int): The height of one figure.\n",
        "        fig_name (str): The name of the image of the plot. if not set this parameter the plot doesn't save.\n",
        "    '''\n",
        "    \n",
        "    plt.rcParams['figure.figsize'] = (wr, hr)\n",
        "    for i in range(len(img_list)):\n",
        "        plt.subplot(r, w, i + 1)\n",
        "        if img_list[i][2] == 'img':\n",
        "            if gray:\n",
        "                plt.imshow(img_list[i][0], cmap = 'gray')\n",
        "            else:\n",
        "                plt.imshow(img_list[i][0])\n",
        "            plt.xticks([])\n",
        "            plt.yticks([])\n",
        "        elif img_list[i][2] == 'hist':\n",
        "            plt.bar(np.arange(len(img_list[i][0])), img_list[i][0], color = 'c')\n",
        "        else:\n",
        "            raise Exception(\"Only image or histogram. Use third parameter of tuples in img_list and set it to img or hist.\")\n",
        "        plt.title(img_list[i][1])\n",
        "    if fig_name is not None:\n",
        "        plt.savefig(fig_name + '.png')\n",
        "    plt.show()"
      ]
    },
    {
      "cell_type": "markdown",
      "metadata": {
        "id": "l3IuG4M6ZonO"
      },
      "source": [
        "Here is for your helper functions(optional)."
      ]
    },
    {
      "cell_type": "code",
      "execution_count": null,
      "metadata": {
        "id": "eZUz7WiIZonO"
      },
      "outputs": [],
      "source": []
    },
    {
      "cell_type": "markdown",
      "metadata": {
        "id": "CFhTrSKJZonP"
      },
      "source": [
        "Implement this function to get the input image and return the skeleton of the input image."
      ]
    },
    {
      "cell_type": "code",
      "execution_count": 4,
      "metadata": {},
      "outputs": [],
      "source": [
        "def dilate(img, kernel): \n",
        "    '''\n",
        "    Dialates image with given kernel.\n",
        "\n",
        "    Parameters:\n",
        "        img (np.ndarray): The image to dialate.\n",
        "        kernel (np.ndarray): The kernel to dialate image with.\n",
        "\n",
        "    Returns:\n",
        "        np.ndarray: The dialated image.\n",
        "    '''\n",
        "    \n",
        "    img_dialated = np.zeros(img.shape)\n",
        "\n",
        "    #Write your code here\n",
        "\n",
        "    return img_dialated"
      ]
    },
    {
      "attachments": {},
      "cell_type": "markdown",
      "metadata": {},
      "source": [
        "Test implementation"
      ]
    },
    {
      "cell_type": "code",
      "execution_count": null,
      "metadata": {},
      "outputs": [],
      "source": [
        "image_list = []\n",
        "\n",
        "image1 = cv2.imread('./images/img1.jpg', cv2.IMREAD_GRAYSCALE)\n",
        "image_list.append([image1, 'image 1', 'img'])\n",
        "image1_dilate = dilate(image1, np.array([[0, 1, 0], [1, 1, 1], [0, 1, 0]]))\n",
        "image_list.append([image1_dilate, 'dilate of image 1','img'])\n",
        "\n",
        "image2 = cv2.imread('./images/img2.jpg', cv2.IMREAD_GRAYSCALE)\n",
        "image_list.append([image2, 'image 2', 'img'])\n",
        "image2_dilate= dilate(image2, np.array([[0, 1, 0], [1, 1, 1], [0, 1, 0]]))\n",
        "image_list.append([image2_dilate, 'dilate of image 2','img'])\n",
        "\n",
        "image3 = cv2.imread('./images/img3.jpg', cv2.IMREAD_GRAYSCALE)\n",
        "image_list.append([image3, 'image 3', 'img'])\n",
        "image3_dilate = dilate(image3, np.array([[0, 1, 0], [1, 1, 1], [0, 1, 0]]))\n",
        "image_list.append([image3_dilate, 'dilate of image 3', 'img'])\n",
        "\n",
        "image4 = cv2.imread('./images/img4.jpg', cv2.IMREAD_GRAYSCALE)\n",
        "image_list.append([image4, 'image 4', 'img'])\n",
        "image4_dilate = dilate(image4, np.array([[0, 1, 0], [1, 1, 1], [0, 1, 0]]))\n",
        "image_list.append([image4_dilate, 'dilate of image 4', 'img'])\n",
        "\n",
        "plotter(image_list, 4, 2, True, 10, 10, 'Q6-a-dilate')"
      ]
    },
    {
      "cell_type": "code",
      "execution_count": 9,
      "metadata": {},
      "outputs": [],
      "source": [
        "def erode(img, kernel): \n",
        "    '''\n",
        "    Erodes image with given kernel.\n",
        "\n",
        "    Parameters:\n",
        "        img (np.ndarray): The image to erode.\n",
        "        kernel (np.ndarray): The kernel to erode image with.\n",
        "\n",
        "    Returns:\n",
        "        np.ndarray: The eroded image.\n",
        "    '''\n",
        "    img_eroded = np.zeros(img.shape)\n",
        "    \n",
        "    #Write your code here\n",
        "    \n",
        "    return img_eroded"
      ]
    },
    {
      "attachments": {},
      "cell_type": "markdown",
      "metadata": {},
      "source": [
        "Test your implementation"
      ]
    },
    {
      "cell_type": "code",
      "execution_count": null,
      "metadata": {},
      "outputs": [],
      "source": [
        "image_list = []\n",
        "\n",
        "image1 = cv2.imread('./images/img1.jpg', cv2.IMREAD_GRAYSCALE)\n",
        "image_list.append([image1, 'image 1', 'img'])\n",
        "image1_erode = erode(image1, np.array([[0, 1, 0], [1, 1, 1], [0, 1, 0]]))\n",
        "image_list.append([image1_erode, 'erode of image 1','img'])\n",
        "\n",
        "image2 = cv2.imread('./images/img2.jpg', cv2.IMREAD_GRAYSCALE)\n",
        "image_list.append([image2, 'image 2', 'img'])\n",
        "image2_erode= erode(image2, np.array([[0, 1, 0], [1, 1, 1], [0, 1, 0]]))\n",
        "image_list.append([image2_erode, 'erode of image 2','img'])\n",
        "\n",
        "image3 = cv2.imread('./images/img3.jpg', cv2.IMREAD_GRAYSCALE)\n",
        "image_list.append([image3, 'image 3', 'img'])\n",
        "image3_erode = erode(image3, np.array([[0, 1, 0], [1, 1, 1], [0, 1, 0]]))\n",
        "image_list.append([image3_erode, 'erode of image 3', 'img'])\n",
        "\n",
        "image4 = cv2.imread('./images/img4.jpg', cv2.IMREAD_GRAYSCALE)\n",
        "image_list.append([image4, 'image 4', 'img'])\n",
        "image4_erode = erode(image4, np.array([[0, 1, 0], [1, 1, 1], [0, 1, 0]]))\n",
        "image_list.append([image4_erode, 'erode of image 4', 'img'])\n",
        "\n",
        "plotter(image_list, 4, 2, True, 10, 10, 'Q6-a-erode')"
      ]
    },
    {
      "cell_type": "code",
      "execution_count": null,
      "metadata": {},
      "outputs": [],
      "source": [
        "def open_morphology(img, kernel): \n",
        "    '''\n",
        "    Performs opening morphology operation on the image.\n",
        "\n",
        "    Parameters:\n",
        "        img (numpy.ndarray): The image to perform opening morphology operation on.\n",
        "\n",
        "    Returns:\n",
        "        numpy.ndarray: The result image.\n",
        "    '''\n",
        "\n",
        "    #Write your code here\n",
        "    \n",
        "    return img_opened"
      ]
    },
    {
      "attachments": {},
      "cell_type": "markdown",
      "metadata": {},
      "source": [
        "Test your implementatino"
      ]
    },
    {
      "cell_type": "code",
      "execution_count": null,
      "metadata": {},
      "outputs": [],
      "source": [
        "image_list = []\n",
        "\n",
        "image1 = cv2.imread('./images/img1.jpg', cv2.IMREAD_GRAYSCALE)\n",
        "image_list.append([image1, 'image 1', 'img'])\n",
        "image1_open = open_morphology(image1, np.array([[0, 1, 0], [1, 1, 1], [0, 1, 0]]))\n",
        "image_list.append([image1_open, 'open of image 1','img'])\n",
        "\n",
        "image2 = cv2.imread('./images/img2.jpg', cv2.IMREAD_GRAYSCALE)\n",
        "image_list.append([image2, 'image 2', 'img'])\n",
        "image2_open= open_morphology(image2, np.array([[0, 1, 0], [1, 1, 1], [0, 1, 0]]))\n",
        "image_list.append([image2_open, 'open of image 2','img'])\n",
        "\n",
        "image3 = cv2.imread('./images/img3.jpg', cv2.IMREAD_GRAYSCALE)\n",
        "image_list.append([image3, 'image 3', 'img'])\n",
        "image3_open = open_morphology(image3, np.array([[0, 1, 0], [1, 1, 1], [0, 1, 0]]))\n",
        "image_list.append([image3_open, 'open of image 3', 'img'])\n",
        "\n",
        "image4 = cv2.imread('./images/img4.jpg', cv2.IMREAD_GRAYSCALE)\n",
        "image_list.append([image4, 'image 4', 'img'])\n",
        "image4_open = open_morphology(image4, np.array([[0, 1, 0], [1, 1, 1], [0, 1, 0]]))\n",
        "image_list.append([image4_open, 'open of image 4', 'img'])\n",
        "\n",
        "plotter(image_list, 4, 2, True, 10, 10, 'Q6-a-open')"
      ]
    },
    {
      "cell_type": "code",
      "execution_count": null,
      "metadata": {},
      "outputs": [],
      "source": [
        "def close_morphology(img, kernel): \n",
        "    '''\n",
        "    Performs closing morphology operation on the image.\n",
        "\n",
        "    Parameters:\n",
        "        img (numpy.ndarray): The image to perform closing morphology operation on.\n",
        "\n",
        "    Returns:\n",
        "        numpy.ndarray: The result image.\n",
        "    '''\n",
        "\n",
        "    #Write your code here\n",
        "    \n",
        "    return img_closed"
      ]
    },
    {
      "attachments": {},
      "cell_type": "markdown",
      "metadata": {},
      "source": [
        "Test your implemention"
      ]
    },
    {
      "cell_type": "code",
      "execution_count": null,
      "metadata": {},
      "outputs": [],
      "source": [
        "image_list = []\n",
        "\n",
        "image1 = cv2.imread('./images/img1.jpg', cv2.IMREAD_GRAYSCALE)\n",
        "image_list.append([image1, 'image 1', 'img'])\n",
        "image1_close = close_morphology(image1, np.array([[0, 1, 0], [1, 1, 1], [0, 1, 0]]))\n",
        "image_list.append([image1_close, 'close of image 1','img'])\n",
        "\n",
        "image2 = cv2.imread('./images/img2.jpg', cv2.IMREAD_GRAYSCALE)\n",
        "image_list.append([image2, 'image 2', 'img'])\n",
        "image2_close= close_morphology(image2, np.array([[0, 1, 0], [1, 1, 1], [0, 1, 0]]))\n",
        "image_list.append([image2_close, 'close of image 2','img'])\n",
        "\n",
        "image3 = cv2.imread('./images/img3.jpg', cv2.IMREAD_GRAYSCALE)\n",
        "image_list.append([image3, 'image 3', 'img'])\n",
        "image3_close = close_morphology(image3, np.array([[0, 1, 0], [1, 1, 1], [0, 1, 0]]))\n",
        "image_list.append([image3_close, 'close of image 3', 'img'])\n",
        "\n",
        "image4 = cv2.imread('./images/img4.jpg', cv2.IMREAD_GRAYSCALE)\n",
        "image_list.append([image4, 'image 4', 'img'])\n",
        "image4_close = close_morphology(image4, np.array([[0, 1, 0], [1, 1, 1], [0, 1, 0]]))\n",
        "image_list.append([image4_close, 'close of image 4', 'img'])\n",
        "\n",
        "plotter(image_list, 4, 2, True, 10, 10, 'Q6-a-close')"
      ]
    },
    {
      "attachments": {},
      "cell_type": "markdown",
      "metadata": {},
      "source": [
        "# Part 2"
      ]
    },
    {
      "cell_type": "code",
      "execution_count": 2,
      "metadata": {},
      "outputs": [],
      "source": [
        "#Write your code here\n",
        "#Like last part, you should make output of each operation separately. Name output image files like this format: Q6-b-dilate, Q6-b-erode"
      ]
    },
    {
      "attachments": {},
      "cell_type": "markdown",
      "metadata": {},
      "source": [
        "# Part 3: optional\n",
        "Skeleton of image"
      ]
    },
    {
      "cell_type": "code",
      "execution_count": null,
      "metadata": {},
      "outputs": [],
      "source": [
        "def get_skeleton(image):\n",
        "    \"\"\"\n",
        "    Finds the skeleton of the input image.\n",
        "    \n",
        "    Parameters:\n",
        "        image (numpy.ndarray): The input image.\n",
        "    \n",
        "    Returns:\n",
        "        numpy.ndarray: The skeleton image.  \n",
        "    \"\"\"\n",
        "    \n",
        "    res = image.copy()\n",
        "    \n",
        "    #Write your code here\n",
        "    \n",
        "    \n",
        "    return res"
      ]
    },
    {
      "cell_type": "markdown",
      "metadata": {
        "id": "lnPhgWYDgpee"
      },
      "source": [
        "Test your implementation (don't change this cell)."
      ]
    },
    {
      "cell_type": "code",
      "execution_count": null,
      "metadata": {
        "id": "7cwurcx7gock"
      },
      "outputs": [],
      "source": [
        "image_list = []\n",
        "\n",
        "image1 = cv2.imread('./images/img1.jpg', cv2.IMREAD_GRAYSCALE)\n",
        "image_list.append([image1, 'image 1', 'img'])\n",
        "image1_skeleton = get_skeleton(image1, np.array([[0, 1, 0], [1, 1, 1], [0, 1, 0]]))\n",
        "image_list.append([image1_skeleton, 'skeleton of image 1','img'])\n",
        "\n",
        "image2 = cv2.imread('./images/img2.jpg', cv2.IMREAD_GRAYSCALE)\n",
        "image_list.append([image2, 'image 2', 'img'])\n",
        "image2_skeleton= get_skeleton(image2, np.array([[0, 1, 0], [1, 1, 1], [0, 1, 0]]))\n",
        "image_list.append([image2_skeleton, 'skeleton of image 2','img'])\n",
        "\n",
        "image3 = cv2.imread('./images/img3.jpg', cv2.IMREAD_GRAYSCALE)\n",
        "image_list.append([image3, 'image 3', 'img'])\n",
        "image3_skeleton = get_skeleton(image3, np.array([[0, 1, 0], [1, 1, 1], [0, 1, 0]]))\n",
        "image_list.append([image3_skeleton, 'skeleton of image 3', 'img'])\n",
        "\n",
        "image4 = cv2.imread('./images/img4.jpg', cv2.IMREAD_GRAYSCALE)\n",
        "image_list.append([image4, 'image 4', 'img'])\n",
        "image4_skeleton = get_skeleton(image4, np.array([[0, 1, 0], [1, 1, 1], [0, 1, 0]]))\n",
        "image_list.append([image4_skeleton, 'skeleton of image 4', 'img'])\n",
        "\n",
        "plotter(image_list, 4, 2, True, 10, 10, 'Q6-c')"
      ]
    },
    {
      "cell_type": "markdown",
      "metadata": {
        "id": "EfdRB2DpZonZ"
      },
      "source": [
        "End!!!"
      ]
    }
  ],
  "metadata": {
    "colab": {
      "provenance": []
    },
    "kernelspec": {
      "display_name": "Python 3",
      "language": "python",
      "name": "python3"
    },
    "language_info": {
      "codemirror_mode": {
        "name": "ipython",
        "version": 3
      },
      "file_extension": ".py",
      "mimetype": "text/x-python",
      "name": "python",
      "nbconvert_exporter": "python",
      "pygments_lexer": "ipython3",
      "version": "3.9.2"
    },
    "toc": {
      "base_numbering": 1,
      "nav_menu": {},
      "number_sections": true,
      "sideBar": true,
      "skip_h1_title": false,
      "title_cell": "Table of Contents",
      "title_sidebar": "Contents",
      "toc_cell": false,
      "toc_position": {},
      "toc_section_display": true,
      "toc_window_display": false
    }
  },
  "nbformat": 4,
  "nbformat_minor": 0
}
