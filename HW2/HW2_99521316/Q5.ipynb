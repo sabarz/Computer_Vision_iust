{
  "cells": [
    {
      "cell_type": "code",
      "source": [
        "# load image and convert it to gray scale\n",
        "import matplotlib.pyplot as plt\n",
        "import cv2\n",
        "from google.colab.patches import cv2_imshow\n",
        "\n",
        "my_image = cv2.imread('Q7.png' , 0)\n",
        "cv2_imshow(my_image)"
      ],
      "metadata": {
        "colab": {
          "base_uri": "https://localhost:8080/",
          "height": 222
        },
        "id": "AbvXCNMwQpTK",
        "outputId": "751c5e85-9869-4ebf-ed26-9f21349efcfc"
      },
      "execution_count": 2,
      "outputs": [
        {
          "output_type": "display_data",
          "data": {
            "text/plain": [
              "<PIL.Image.Image image mode=L size=246x205 at 0x7F4273695D90>"
            ],
            "image/png": "[encoded data removed]"
          },
          "metadata": {}
        }
      ]
    },
    {
      "cell_type": "code",
      "source": [
        "import numpy as np\n",
        "\n",
        "# create a binary image\n",
        "edges = cv2.Canny(my_image, 50, 90)\n",
        "\n",
        "cv2_imshow(edges)"
      ],
      "metadata": {
        "colab": {
          "base_uri": "https://localhost:8080/",
          "height": 222
        },
        "id": "SLLXOmaY9P-x",
        "outputId": "1fee407d-dbf9-40bc-e403-b9674ee97715"
      },
      "execution_count": 3,
      "outputs": [
        {
          "output_type": "display_data",
          "data": {
            "text/plain": [
              "<PIL.Image.Image image mode=L size=246x205 at 0x7F427103CB20>"
            ],
            "image/png": "[encoded data removed]"
          },
          "metadata": {}
        }
      ]
    },
    {
      "cell_type": "code",
      "source": [
        "# find contours \n",
        "contours, treshhold = cv2.findContours(edges, cv2.RETR_EXTERNAL, cv2.CHAIN_APPROX_SIMPLE)\n",
        "#draw the edges on the image\n",
        "with_edge = my_image.copy()\n",
        "#draw a line on the edges \n",
        "cv2.drawContours(with_edge, contours, -1, (0, 255, 0), 4)\n",
        "\n",
        "color_image = cv2.cvtColor(with_edge, cv2.COLOR_GRAY2BGR)\n",
        "cv2_imshow(with_edge)\n"
      ],
      "metadata": {
        "colab": {
          "base_uri": "https://localhost:8080/",
          "height": 222
        },
        "id": "aIaKBRjc_iI6",
        "outputId": "37b3cf58-aadd-409a-ece7-becef4a55b87"
      },
      "execution_count": 4,
      "outputs": [
        {
          "output_type": "display_data",
          "data": {
            "text/plain": [
              "<PIL.Image.Image image mode=L size=246x205 at 0x7F424885ACA0>"
            ],
            "image/png": "[encoded data removed]"
          },
          "metadata": {}
        }
      ]
    },
    {
      "cell_type": "code",
      "source": [
        "for contour in contours:\n",
        "    #find corners\n",
        "    approx = cv2.approxPolyDP(contour, 0.04 * cv2.arcLength(contour, True), True)\n",
        "\n",
        "    for point in approx:\n",
        "        #mark the corners\n",
        "        cv2.drawMarker(my_image, tuple(point[0]), (0, 0, 255), cv2.MARKER_STAR, 10, 2)\n",
        "\n",
        "    #find the shape and write it on the image\n",
        "    if len(approx) == 3:\n",
        "        shape_class = \"Triangle\"\n",
        "        cv2.putText(my_image, shape_class, (20 , 20), cv2.FONT_HERSHEY_SIMPLEX, 0.5, (0, 255, 0), 2)\n",
        "    \n",
        "    elif len(approx) == 4:\n",
        "        x,y,w,h = cv2.boundingRect(contour)\n",
        "        if w == h:\n",
        "          shape_class = \"Square\"\n",
        "          cv2.putText(my_image, shape_class, (20 , 110), cv2.FONT_HERSHEY_SIMPLEX, 0.5, (0, 255, 0), 2)\n",
        "        else :\n",
        "          shape_class = \"Rectangle\"\n",
        "          cv2.putText(my_image, shape_class, (130 , 110), cv2.FONT_HERSHEY_SIMPLEX, 0.5, (0, 255, 0), 2)\n",
        "\n",
        "    elif len(approx) == 5:\n",
        "        shape_class = \"Pentagon\"\n",
        "\n",
        "    else:\n",
        "        shape_class = \"circle\"\n",
        "        cv2.putText(my_image, shape_class, (150 , 20), cv2.FONT_HERSHEY_SIMPLEX, 0.5, (0, 255, 0), 2)\n",
        "        \n",
        "\n",
        "cv2_imshow(my_image)"
      ],
      "metadata": {
        "colab": {
          "base_uri": "https://localhost:8080/",
          "height": 222
        },
        "id": "_lXK_KdqFFtf",
        "outputId": "6a1fbdc2-7d31-46d1-c953-1acdae7b1643"
      },
      "execution_count": 6,
      "outputs": [
        {
          "output_type": "display_data",
          "data": {
            "text/plain": [
              "<PIL.Image.Image image mode=L size=246x205 at 0x7F42487649D0>"
            ],
            "image/png": "[encoded data removed]"
          },
          "metadata": {}
        }
      ]
    },
    {
      "cell_type": "code",
      "source": [],
      "metadata": {
        "id": "9Phh65Na-g-I"
      },
      "execution_count": null,
      "outputs": []
    }
  ],
  "metadata": {
    "colab": {
      "provenance": []
    },
    "kernelspec": {
      "display_name": "Python 3",
      "name": "python3"
    },
    "language_info": {
      "name": "python"
    }
  },
  "nbformat": 4,
  "nbformat_minor": 0
}