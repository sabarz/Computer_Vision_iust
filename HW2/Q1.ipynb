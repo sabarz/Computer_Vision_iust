{
  "cells": [
    {
      "attachments": {},
      "cell_type": "markdown",
      "metadata": {
        "id": "iLW56wNQgJN_"
      },
      "source": [
        "# Q1 Sobel"
      ]
    },
    {
      "attachments": {},
      "cell_type": "markdown",
      "metadata": {
        "id": "l-0XzQTshcWu"
      },
      "source": [
        "## a)"
      ]
    },
    {
      "cell_type": "code",
      "execution_count": null,
      "metadata": {
        "id": "aLSNT66CeS2U"
      },
      "outputs": [],
      "source": [
        "# generate random matrix with size n*n\n",
        "def generateRandomMatrix(n):\n",
        "  "
      ]
    },
    {
      "cell_type": "code",
      "execution_count": null,
      "metadata": {
        "id": "e2SYnfWdgpvi"
      },
      "outputs": [],
      "source": [
        "# write convolution function\n",
        "def convolve(matrix, kernel):\n",
        "  pass"
      ]
    },
    {
      "cell_type": "code",
      "execution_count": null,
      "metadata": {
        "id": "d03Z0KRuhBn7"
      },
      "outputs": [],
      "source": [
        "# generate horizontal and vertical kernels"
      ]
    },
    {
      "cell_type": "code",
      "execution_count": null,
      "metadata": {
        "id": "fZu8BwfIhGWH"
      },
      "outputs": [],
      "source": [
        "# convolve the initial matrix with kernels"
      ]
    },
    {
      "cell_type": "code",
      "execution_count": null,
      "metadata": {
        "id": "1MpmZ4-qhL3P"
      },
      "outputs": [],
      "source": [
        "# generate magnitude and direction matrixes"
      ]
    },
    {
      "attachments": {},
      "cell_type": "markdown",
      "metadata": {
        "id": "AwXkRwGrhguE"
      },
      "source": [
        "## b)"
      ]
    },
    {
      "cell_type": "code",
      "execution_count": null,
      "metadata": {
        "id": "_5zAyiKhhgHH"
      },
      "outputs": [],
      "source": [
        "# load image and convert it to gray scale"
      ]
    },
    {
      "cell_type": "code",
      "execution_count": null,
      "metadata": {
        "id": "Im11BZGWhwl_"
      },
      "outputs": [],
      "source": [
        "# define gaussian kernel"
      ]
    },
    {
      "cell_type": "code",
      "execution_count": null,
      "metadata": {
        "id": "elBtbZUJhzEL"
      },
      "outputs": [],
      "source": [
        "# generate Sobel outputs for 2 cases with gaussion filter and without gaussion filter and compare them"
      ]
    },
    {
      "attachments": {},
      "cell_type": "markdown",
      "metadata": {
        "id": "Ap9rPuUJifl-"
      },
      "source": [
        "## c)"
      ]
    },
    {
      "cell_type": "code",
      "execution_count": null,
      "metadata": {
        "id": "p1ajGUljiTzq"
      },
      "outputs": [],
      "source": [
        "# do the operations in part b with OpenCV Sobel method and describe its parameters"
      ]
    },
    {
      "cell_type": "code",
      "execution_count": null,
      "metadata": {
        "id": "tTNkf8BPioyY"
      },
      "outputs": [],
      "source": []
    }
  ],
  "metadata": {
    "colab": {
      "provenance": []
    },
    "kernelspec": {
      "display_name": "Python 3",
      "name": "python3"
    },
    "language_info": {
      "name": "python"
    }
  },
  "nbformat": 4,
  "nbformat_minor": 0
}
