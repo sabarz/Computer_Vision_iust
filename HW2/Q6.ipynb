{
  "cells": [
    {
      "attachments": {},
      "cell_type": "markdown",
      "metadata": {
        "id": "KshfLKgbslta"
      },
      "source": [
        "# Q6"
      ]
    },
    {
      "cell_type": "code",
      "execution_count": 1,
      "metadata": {
        "id": "g7Q0z8YJta7L"
      },
      "outputs": [],
      "source": [
        "import numpy as np\n",
        "import cv2\n",
        "import math\n",
        "import matplotlib.pyplot as plt\n",
        "from google.colab.patches import cv2_imshow"
      ]
    },
    {
      "cell_type": "markdown",
      "metadata": {
        "id": "m-q1Zz4Kst4n"
      },
      "source": [
        "## part a"
      ]
    },
    {
      "cell_type": "markdown",
      "metadata": {
        "id": "W2gVCOSUf_QK"
      },
      "source": [
        "<h3> in this section we want to implement : </h3>\n",
        "\n",
        "1.   Averaging Blurring\n",
        "2.   Median Blurring\n",
        "3.   Gaussian Blurring\n",
        "\n",
        "<h3> you should define reflect101 padding function and use it befor blurring </h3>\n",
        "<h3><b> note : you can't use libraries in this section </b></h3>\n",
        "<h3><b> note : you can't use loop in Reflect101 function </b></h3>\n",
        "\n",
        "\n"
      ]
    },
    {
      "cell_type": "code",
      "execution_count": 221,
      "metadata": {
        "id": "OB7u6wGYiSLm"
      },
      "outputs": [],
      "source": [
        "def Reflect101(img,filter_size):\n",
        "  '''\n",
        "    Do not use loop (like while and for)\n",
        "    Do not use libraries\n",
        "    calculate averaging filter\n",
        "    input(s):\n",
        "      img (ndarray): input image\n",
        "      filter_size (ndarray): filter size\n",
        "    output(s):\n",
        "      image (ndarray): computed Reflect101\n",
        "  '''\n",
        "  \n",
        "  #######################\n",
        "  #    your code here   #\n",
        "  #######################\n",
        "  \n",
        "  return image"
      ]
    },
    {
      "cell_type": "code",
      "execution_count": 213,
      "metadata": {
        "id": "f7YLvCGdsf0W"
      },
      "outputs": [],
      "source": [
        "def Averaging_Blurring(img, filter_size):\n",
        "  '''\n",
        "    Do not use libraries\n",
        "    input(s):\n",
        "      img (ndarray): input image\n",
        "      filter_size (ndarray): filter size\n",
        "    output(s):\n",
        "      result (ndarray): computed averaging blurring\n",
        "  '''\n",
        "  image = Reflect101(img, filter_size)\n",
        "  result = np.zeros((img.shape))\n",
        "  \n",
        "  #######################\n",
        "  #    your code here   #\n",
        "  #######################\n",
        "  \n",
        "  return result"
      ]
    },
    {
      "cell_type": "code",
      "execution_count": 214,
      "metadata": {
        "id": "UjpSxK6vqLRj"
      },
      "outputs": [],
      "source": [
        "def Median_Blurring(img, filter_size):\n",
        "  '''\n",
        "    Do not use libraries\n",
        "    input(s):\n",
        "      img (ndarray): input image\n",
        "      filter_size (ndarray): filter size\n",
        "    output(s):\n",
        "      result (ndarray): computed median blurring\n",
        "  '''\n",
        "  image = Reflect101(img, filter_size)\n",
        "  result = np.zeros((img.shape))\n",
        "  \n",
        "  #######################\n",
        "  #    your code here   #\n",
        "  #######################\n",
        "  \n",
        "  return result"
      ]
    },
    {
      "cell_type": "code",
      "execution_count": 215,
      "metadata": {
        "id": "KZXYz8X-YCN_"
      },
      "outputs": [],
      "source": [
        "def Gaussian_Blurring(img, filter_size, std):\n",
        "    '''\n",
        "    Do not use libraries\n",
        "    input(s):\n",
        "      img (ndarray): input image\n",
        "      filter_size (tuple): filter size\n",
        "      std (float): std of gaussian kernel\n",
        "    output(s):\n",
        "      result (ndarray): computed gaussian blurring\n",
        "    '''\n",
        "    kernel = np.zeros((filter_size,filter_size))\n",
        "    #######################\n",
        "    #    your code here   #\n",
        "    #######################\n",
        "    output = img.copy()\n",
        "    result = cv2.filter2D(src = output, ddepth = -1, kernel = kernel)\n",
        "    return result"
      ]
    },
    {
      "cell_type": "code",
      "execution_count": 205,
      "metadata": {
        "id": "lwyKLaXsRWqd"
      },
      "outputs": [],
      "source": [
        "# Do not change this cell\n",
        "image = cv2.imread('taj.jpg',cv2.IMREAD_GRAYSCALE)"
      ]
    },
    {
      "cell_type": "code",
      "execution_count": null,
      "metadata": {
        "id": "BUU4wIdqoaiV"
      },
      "outputs": [],
      "source": [
        "# Do not change this cell\n",
        "plt.figure(figsize=(15,15))\n",
        "plt.subplot(2,2,1)\n",
        "plt.imshow(image,cmap='gray')\n",
        "plt.title(\"main image\")\n",
        "plt.axis(\"off\")\n",
        "\n",
        "AB = Averaging_Blurring(image,15)\n",
        "plt.subplot(2,2,2)\n",
        "plt.imshow(AB,cmap='gray')\n",
        "plt.title(\"Averaging Blurring\")\n",
        "plt.axis(\"off\")\n",
        "\n",
        "MB = Median_Blurring(image,15)\n",
        "plt.subplot(2,2,3)\n",
        "plt.imshow(MB,cmap='gray')\n",
        "plt.title(\"Median Blurring\")\n",
        "plt.axis(\"off\")\n",
        "\n",
        "GB = Gaussian_Blurring(image,15,40)\n",
        "plt.subplot(2,2,4)\n",
        "plt.imshow(GB,cmap='gray')\n",
        "plt.title(\"Gaussian Blurring\")\n",
        "plt.axis(\"off\")\n"
      ]
    },
    {
      "cell_type": "markdown",
      "metadata": {
        "id": "H772iQ12fltt"
      },
      "source": [
        "## part b"
      ]
    },
    {
      "cell_type": "markdown",
      "metadata": {
        "id": "oQ1T9HpRiaqy"
      },
      "source": [
        "<h3> in this section we want to implement Bilateral Filtering </h3>\n",
        "<h3> first you need to read about it and write about it in your report </h3>\n",
        "<h3><b> note : you can't use libraries in this section </b></h3>\n"
      ]
    },
    {
      "cell_type": "code",
      "execution_count": 216,
      "metadata": {
        "id": "uGfAXTOf0QKa"
      },
      "outputs": [],
      "source": [
        "def Bilateral_Filtering(img, filter_size, std, rstd):\n",
        "    '''\n",
        "    Do not use libraries\n",
        "    input(s):\n",
        "      img (ndarray): input image\n",
        "      filter_size (tuple): filter size\n",
        "      std (float): value of std in the coordinate space\n",
        "      rstd (float): value of std in the color space\n",
        "    output(s):\n",
        "      result (ndarray): computed Bilateral blurring\n",
        "    '''\n",
        "    result = img.copy()\n",
        "    #######################\n",
        "    #    your code here   #\n",
        "    #######################\n",
        "    return result"
      ]
    },
    {
      "cell_type": "code",
      "execution_count": null,
      "metadata": {
        "id": "6Q0P-OZMCYMO"
      },
      "outputs": [],
      "source": [
        "# Do not change this cell\n",
        "bilateral = Bilateral_Filtering(image, 15, 40, 40)\n",
        "cv2_imshow(bilateral)"
      ]
    },
    {
      "cell_type": "markdown",
      "metadata": {
        "id": "QU6Lo26IJHI-"
      },
      "source": [
        "## part c"
      ]
    },
    {
      "cell_type": "markdown",
      "metadata": {
        "id": "CWDWxkySJaFI"
      },
      "source": [
        "<h3> in this section we want to implement all blurrings with opencv and compare their with part b </h3>\n",
        "<h3><b> note : for comparison, the parameters should be the same as in part b </b></h3>"
      ]
    },
    {
      "cell_type": "code",
      "execution_count": 218,
      "metadata": {
        "id": "XoT5hr28Of5I"
      },
      "outputs": [],
      "source": [
        "AveragingBlurring = ## your code here ##\n",
        "MedianBlurring = ## your code here ##\n",
        "GaussianBlurring = ## your code here ##\n",
        "Bilateral = ## your code here ##"
      ]
    },
    {
      "cell_type": "code",
      "execution_count": null,
      "metadata": {
        "id": "GcGO3tiBn99u"
      },
      "outputs": [],
      "source": [
        "# Do not change this cell\n",
        "Array = [AveragingBlurring, MedianBlurring, GaussianBlurring, Bilateral]\n",
        "titles = ['Averaging Blurring', 'Median Blurring', 'Gaussian Blurring', 'Bilateral']\n",
        "plt.figure(figsize=(15,15))\n",
        "for i in range(4):\n",
        "  plt.subplot(2,2,i+1)\n",
        "  plt.imshow(Array[i],cmap='gray')\n",
        "  plt.title(titles[i])\n",
        "  plt.axis(\"off\")"
      ]
    }
  ],
  "metadata": {
    "colab": {
      "provenance": [],
      "toc_visible": true
    },
    "gpuClass": "standard",
    "kernelspec": {
      "display_name": "Python 3",
      "name": "python3"
    },
    "language_info": {
      "name": "python"
    }
  },
  "nbformat": 4,
  "nbformat_minor": 0
}
